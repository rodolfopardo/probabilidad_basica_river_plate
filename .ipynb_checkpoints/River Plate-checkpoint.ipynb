{
 "cells": [
  {
   "cell_type": "markdown",
   "metadata": {},
   "source": [
    "### Probabilidad básica\n",
    "\n",
    "Un simpatizante de River Plate, club de Argentina ingresa se gana una entrada al vestuario del equipo antes de comenzar el partido. Como amabilidad, Leonardo Ponzio saca una bolsa llena de camisetas del club en las cuales estaban 10 titulares, 7 alternativas y 5 suplentes. En total, habían 22 camisetas de River Plate. \n",
    "\n",
    "1. ¿Qué probabilidad es que Ponzio saque una camiseta titular de la bolsa? \n",
    "2. ¿Qué probabilidad es que Ponzio saque una camiseta alternativa de la bolsa?\n",
    "3. ¿Qué probabilidad es que Ponzio saque una camiseta suplente de la bolsa? "
   ]
  },
  {
   "cell_type": "markdown",
   "metadata": {},
   "source": [
    "<img src=\"titular.png\">"
   ]
  },
  {
   "cell_type": "code",
   "execution_count": 1,
   "metadata": {},
   "outputs": [],
   "source": [
    "espacio_muestral = ['t','t','t','t','t','t','t','t','t','t','a','a','a','a','a','a','a','s','s','s','s','s']"
   ]
  },
  {
   "cell_type": "code",
   "execution_count": 2,
   "metadata": {},
   "outputs": [],
   "source": [
    "def saco_camiseta(x):\n",
    "    return (x == 't')"
   ]
  },
  {
   "cell_type": "code",
   "execution_count": 5,
   "metadata": {},
   "outputs": [
    {
     "data": {
      "text/plain": [
       "10"
      ]
     },
     "execution_count": 5,
     "metadata": {},
     "output_type": "execute_result"
    }
   ],
   "source": [
    "titulares = len([x for x in espacio_muestral if saco_camiseta(x)])\n",
    "titulares"
   ]
  },
  {
   "cell_type": "code",
   "execution_count": 6,
   "metadata": {},
   "outputs": [],
   "source": [
    "muestra_total = len(espacio_muestral)"
   ]
  },
  {
   "cell_type": "code",
   "execution_count": 7,
   "metadata": {},
   "outputs": [],
   "source": [
    "probabilidad = titulares / muestra_total"
   ]
  },
  {
   "cell_type": "code",
   "execution_count": 8,
   "metadata": {},
   "outputs": [
    {
     "data": {
      "text/plain": [
       "0.45454545454545453"
      ]
     },
     "execution_count": 8,
     "metadata": {},
     "output_type": "execute_result"
    }
   ],
   "source": [
    "probabilidad"
   ]
  },
  {
   "cell_type": "code",
   "execution_count": 10,
   "metadata": {},
   "outputs": [
    {
     "name": "stdout",
     "output_type": "stream",
     "text": [
      "La probabilidad de que saque la camiseta titular es de 45.45%\n"
     ]
    }
   ],
   "source": [
    "print(\"La probabilidad de que saque la camiseta titular es de \" + '{0:.2%}'.format(probabilidad))"
   ]
  },
  {
   "cell_type": "markdown",
   "metadata": {},
   "source": [
    "----------"
   ]
  },
  {
   "cell_type": "code",
   "execution_count": 11,
   "metadata": {},
   "outputs": [],
   "source": [
    "def saco_camiseta(x):\n",
    "    return (x == 'a')"
   ]
  },
  {
   "cell_type": "code",
   "execution_count": 13,
   "metadata": {},
   "outputs": [],
   "source": [
    "alternativa = len([x for x in espacio_muestral if saco_camiseta(x)])"
   ]
  },
  {
   "cell_type": "code",
   "execution_count": 15,
   "metadata": {},
   "outputs": [],
   "source": [
    "probabilidad1 = alternativa / muestra_total"
   ]
  },
  {
   "cell_type": "code",
   "execution_count": 16,
   "metadata": {},
   "outputs": [
    {
     "name": "stdout",
     "output_type": "stream",
     "text": [
      "La probabilidad de que saque la camiseta alternativa es de 31.82%\n"
     ]
    }
   ],
   "source": [
    "print(\"La probabilidad de que saque la camiseta alternativa es de \" + '{0:.2%}'.format(probabilidad1))"
   ]
  },
  {
   "cell_type": "markdown",
   "metadata": {},
   "source": [
    "------"
   ]
  },
  {
   "cell_type": "code",
   "execution_count": 23,
   "metadata": {},
   "outputs": [],
   "source": [
    "probabilidad_suplente = 1-(probabilidad + probabilidad1)"
   ]
  },
  {
   "cell_type": "code",
   "execution_count": 25,
   "metadata": {},
   "outputs": [
    {
     "name": "stdout",
     "output_type": "stream",
     "text": [
      "La probabilidad de que saque la camiseta suplente es de 22.73%\n"
     ]
    }
   ],
   "source": [
    "print(\"La probabilidad de que saque la camiseta suplente es de \" + '{0:.2%}'.format(probabilidad_suplente))"
   ]
  },
  {
   "cell_type": "code",
   "execution_count": null,
   "metadata": {},
   "outputs": [],
   "source": []
  }
 ],
 "metadata": {
  "kernelspec": {
   "display_name": "Python 3",
   "language": "python",
   "name": "python3"
  },
  "language_info": {
   "codemirror_mode": {
    "name": "ipython",
    "version": 3
   },
   "file_extension": ".py",
   "mimetype": "text/x-python",
   "name": "python",
   "nbconvert_exporter": "python",
   "pygments_lexer": "ipython3",
   "version": "3.7.3"
  }
 },
 "nbformat": 4,
 "nbformat_minor": 2
}
